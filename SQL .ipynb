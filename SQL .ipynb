{
 "cells": [
  {
   "cell_type": "markdown",
   "metadata": {},
   "source": [
    "# Python Relational Databases "
   ]
  },
  {
   "cell_type": "markdown",
   "metadata": {},
   "source": [
    "Installing a package named as sqlalchemy which provides full SQL language functionality to be used in python."
   ]
  },
  {
   "cell_type": "code",
   "execution_count": 1,
   "metadata": {},
   "outputs": [
    {
     "name": "stdout",
     "output_type": "stream",
     "text": [
      "Collecting package metadata (current_repodata.json): done\n",
      "Solving environment: done\n",
      "\n",
      "# All requested packages already installed.\n",
      "\n",
      "\n",
      "Note: you may need to restart the kernel to use updated packages.\n"
     ]
    }
   ],
   "source": [
    "conda install sqlalchemy"
   ]
  },
  {
   "cell_type": "markdown",
   "metadata": {},
   "source": [
    "The SQLAlchemy is used to connect to a variety of relational sources including MySql, Oracle and Postgresql and Mssql. For this to happen, we first create a database engine and then connect to the database engine using the to_sql function of the SQLAlchemy library."
   ]
  },
  {
   "cell_type": "code",
   "execution_count": 2,
   "metadata": {},
   "outputs": [],
   "source": [
    "from sqlalchemy import create_engine\n",
    "import pandas as pd\n",
    "from pandas.io import sql"
   ]
  },
  {
   "cell_type": "code",
   "execution_count": 3,
   "metadata": {},
   "outputs": [],
   "source": [
    "# read data\n",
    "data = pd.read_csv('/Users/asumankabugo/Desktop/EMPLOYEE.csv')"
   ]
  },
  {
   "cell_type": "code",
   "execution_count": 4,
   "metadata": {},
   "outputs": [],
   "source": [
    "#create a database engine\n",
    "engine = create_engine('sqlite:///:memory:')"
   ]
  },
  {
   "cell_type": "markdown",
   "metadata": {},
   "source": [
    "We create the relational table by using the to_sql function from a dataframe already created by reading a csv file."
   ]
  },
  {
   "cell_type": "code",
   "execution_count": 5,
   "metadata": {},
   "outputs": [],
   "source": [
    "#store the dataframe as a table\n",
    "data.to_sql('data_table', engine)"
   ]
  },
  {
   "cell_type": "markdown",
   "metadata": {},
   "source": [
    "Then we use the read_sql_query function from pandas to execute and capture the results from various SQL queries."
   ]
  },
  {
   "cell_type": "code",
   "execution_count": 6,
   "metadata": {},
   "outputs": [
    {
     "name": "stdout",
     "output_type": "stream",
     "text": [
      "Result 1\n",
      "   index  emp_id first_name Last_name  birth_date sex   salary  super_id  \\\n",
      "0      0     100      David   Wallace  17/11/1967   M  250,000       102   \n",
      "1      1     101        Jan  Levinson  11/05/1961   F  110,000       100   \n",
      "2      2     102    Michael     Scott  15/03/1964   M   75,000       100   \n",
      "3      3     103     Angela    Martin  25/06/1971   F   63,000       102   \n",
      "4      4     104      Kelly    Kapoor  05/02/1980   F   55,000       102   \n",
      "5      5     105    Stanley    Hudson  19/02/1958   M   69,000       102   \n",
      "6      6     106       Josh    Porter  05/09/1969   M   78,000       100   \n",
      "7      7     107       Andy   Bernard  22/07/1973   M   65,000       106   \n",
      "8      8     108        Jim   Halpert  01/10/1978   M   71,000       106   \n",
      "\n",
      "   branch_id  \n",
      "0          1  \n",
      "1          1  \n",
      "2          2  \n",
      "3          2  \n",
      "4          2  \n",
      "5          2  \n",
      "6          3  \n",
      "7          3  \n",
      "8          3  \n",
      "\n"
     ]
    }
   ],
   "source": [
    "# Query 1 on the relational table\n",
    "result1 = pd.read_sql_query('SELECT * FROM data_table', engine)\n",
    "print('Result 1')\n",
    "print(result1)\n",
    "print('')"
   ]
  },
  {
   "cell_type": "code",
   "execution_count": 7,
   "metadata": {},
   "outputs": [
    {
     "name": "stdout",
     "output_type": "stream",
     "text": [
      "RESULT 2\n",
      "   branch_id  sum(salary)\n",
      "0          1        360.0\n",
      "1          2        262.0\n",
      "2          3        214.0\n",
      "\n"
     ]
    }
   ],
   "source": [
    "# Query 2 on the relational table\n",
    "result2 = pd.read_sql_query('SELECT branch_id, sum(salary) FROM data_table group by branch_id', engine)\n",
    "print('RESULT 2')\n",
    "print(result2)\n",
    "print('')"
   ]
  },
  {
   "cell_type": "markdown",
   "metadata": {},
   "source": [
    "# Inserting Data to Relational Tables"
   ]
  },
  {
   "cell_type": "markdown",
   "metadata": {},
   "source": [
    "We can also insert data into relational tables using sql.execute function available in pandas"
   ]
  },
  {
   "cell_type": "code",
   "execution_count": 8,
   "metadata": {},
   "outputs": [
    {
     "data": {
      "text/plain": [
       "<sqlalchemy.engine.result.ResultProxy at 0x7fcf175786d0>"
      ]
     },
     "execution_count": 8,
     "metadata": {},
     "output_type": "execute_result"
    }
   ],
   "source": [
    "# Insert another row\n",
    "sql.execute('INSERT INTO data_table VALUES(?,?,?,?,?,?,?,?,?)', engine, params=[('emp_id',10,'Jack','Kimbo','27/03/1980','M','79,000','100','4')])"
   ]
  },
  {
   "cell_type": "code",
   "execution_count": 9,
   "metadata": {
    "scrolled": true
   },
   "outputs": [
    {
     "name": "stdout",
     "output_type": "stream",
     "text": [
      "   emp_id first_name Last_name  birth_date sex   salary  super_id  branch_id\n",
      "0     100      David   Wallace  17/11/1967   M  250,000       102          1\n",
      "1     101        Jan  Levinson  11/05/1961   F  110,000       100          1\n",
      "2     102    Michael     Scott  15/03/1964   M   75,000       100          2\n",
      "3     103     Angela    Martin  25/06/1971   F   63,000       102          2\n",
      "4     104      Kelly    Kapoor  05/02/1980   F   55,000       102          2\n",
      "5     105    Stanley    Hudson  19/02/1958   M   69,000       102          2\n",
      "6     106       Josh    Porter  05/09/1969   M   78,000       100          3\n",
      "7     107       Andy   Bernard  22/07/1973   M   65,000       106          3\n",
      "8     108        Jim   Halpert  01/10/1978   M   71,000       106          3\n",
      "9      10       Jack     Kimbo  27/03/1980   M   79,000       100          4\n"
     ]
    }
   ],
   "source": [
    "# Read from the relational table\n",
    "result3 = pd.read_sql_query('SELECT emp_id, First_name, Last_name,birth_date, sex, salary, super_id, branch_id FROM data_table', engine)\n",
    "print(result3)"
   ]
  },
  {
   "cell_type": "markdown",
   "metadata": {},
   "source": [
    "# Deleting Data from Relational Tables"
   ]
  },
  {
   "cell_type": "markdown",
   "metadata": {},
   "source": [
    "We can also delete data into relational database using sql.execute function available in pandas"
   ]
  },
  {
   "cell_type": "code",
   "execution_count": 10,
   "metadata": {},
   "outputs": [
    {
     "data": {
      "text/plain": [
       "<sqlalchemy.engine.result.ResultProxy at 0x7fcf18d23150>"
      ]
     },
     "execution_count": 10,
     "metadata": {},
     "output_type": "execute_result"
    }
   ],
   "source": [
    "#delete data from data table\n",
    "sql.execute('Delete from data_table where birth_date = (?) ', engine,  params=[('05/02/1980')])\n"
   ]
  },
  {
   "cell_type": "code",
   "execution_count": 11,
   "metadata": {},
   "outputs": [
    {
     "name": "stdout",
     "output_type": "stream",
     "text": [
      "   emp_id first_name Last_name  birth_date sex   salary  super_id  branch_id\n",
      "0     100      David   Wallace  17/11/1967   M  250,000       102          1\n",
      "1     101        Jan  Levinson  11/05/1961   F  110,000       100          1\n",
      "2     102    Michael     Scott  15/03/1964   M   75,000       100          2\n",
      "3     103     Angela    Martin  25/06/1971   F   63,000       102          2\n",
      "4     105    Stanley    Hudson  19/02/1958   M   69,000       102          2\n",
      "5     106       Josh    Porter  05/09/1969   M   78,000       100          3\n",
      "6     107       Andy   Bernard  22/07/1973   M   65,000       106          3\n",
      "7     108        Jim   Halpert  01/10/1978   M   71,000       106          3\n",
      "8      10       Jack     Kimbo  27/03/1980   M   79,000       100          4\n"
     ]
    }
   ],
   "source": [
    "#read from relational database\n",
    "result4 = pd.read_sql_query('SELECT emp_id, First_name, Last_name,birth_date, sex, salary, super_id, branch_id FROM data_table', engine)\n",
    "print(result4)"
   ]
  },
  {
   "cell_type": "code",
   "execution_count": null,
   "metadata": {},
   "outputs": [],
   "source": []
  }
 ],
 "metadata": {
  "kernelspec": {
   "display_name": "Python 3",
   "language": "python",
   "name": "python3"
  },
  "language_info": {
   "codemirror_mode": {
    "name": "ipython",
    "version": 3
   },
   "file_extension": ".py",
   "mimetype": "text/x-python",
   "name": "python",
   "nbconvert_exporter": "python",
   "pygments_lexer": "ipython3",
   "version": "3.7.6"
  }
 },
 "nbformat": 4,
 "nbformat_minor": 2
}
